{
 "cells": [
  {
   "cell_type": "code",
   "execution_count": 13,
   "id": "05bdace6-5d4f-404a-bb9f-cc2077c38b33",
   "metadata": {},
   "outputs": [],
   "source": [
    "# Initial imports\n",
    "import os\n",
    "import requests\n",
    "import pandas as pd\n",
    "from dotenv import load_dotenv\n",
    "import alpaca_trade_api as tradeapi\n",
    "from MCForecastTools import MCSimulation\n",
    "%matplotlib inline\n",
    "import json\n",
    "from alpaca_trade_api.rest import REST, TimeFrame\n"
   ]
  },
  {
   "cell_type": "code",
   "execution_count": 14,
   "id": "a115120b-9b6b-44bf-a544-13083c8c9d02",
   "metadata": {},
   "outputs": [
    {
     "data": {
      "text/plain": [
       "True"
      ]
     },
     "execution_count": 14,
     "metadata": {},
     "output_type": "execute_result"
    }
   ],
   "source": [
    "# Load .env enviroment variables\n",
    "load_dotenv()"
   ]
  },
  {
   "cell_type": "code",
   "execution_count": 15,
   "id": "f23842b0-99a7-4cfb-8cc0-f39b7f0086eb",
   "metadata": {},
   "outputs": [],
   "source": [
    "# Set current amount of crypto assets\n",
    "my_btc = 1.2\n",
    "my_eth = 5.3"
   ]
  },
  {
   "cell_type": "code",
   "execution_count": 16,
   "id": "1377dd89-2e01-46a1-9b79-70ada005b147",
   "metadata": {},
   "outputs": [],
   "source": [
    "# Crypto API URLs\n",
    "btc_url = \"https://api.alternative.me/v2/ticker/Bitcoin/?convert=CAD\"\n",
    "eth_url = \"https://api.alternative.me/v2/ticker/Ethereum/?convert=CAD\""
   ]
  },
  {
   "cell_type": "code",
   "execution_count": 17,
   "id": "beec0905-ba8c-486c-bdd4-6d2769b43eb9",
   "metadata": {},
   "outputs": [
    {
     "name": "stdout",
     "output_type": "stream",
     "text": [
      "{\n",
      "    \"data\": {\n",
      "        \"1\": {\n",
      "            \"id\": 1,\n",
      "            \"name\": \"Bitcoin\",\n",
      "            \"symbol\": \"BTC\",\n",
      "            \"website_slug\": \"bitcoin\",\n",
      "            \"rank\": 1,\n",
      "            \"circulating_supply\": 19001243,\n",
      "            \"total_supply\": 19001243,\n",
      "            \"max_supply\": 21000000,\n",
      "            \"quotes\": {\n",
      "                \"USD\": {\n",
      "                    \"price\": 46157.0,\n",
      "                    \"volume_24h\": 22649767987,\n",
      "                    \"market_cap\": 875360158572,\n",
      "                    \"percentage_change_1h\": 0.586562212123939,\n",
      "                    \"percentage_change_24h\": -0.870663221633865,\n",
      "                    \"percentage_change_7d\": 3.69735727702829,\n",
      "                    \"percent_change_1h\": 0.586562212123939,\n",
      "                    \"percent_change_24h\": -0.870663221633865,\n",
      "                    \"percent_change_7d\": 3.69735727702829\n",
      "                },\n",
      "                \"CAD\": {\n",
      "                    \"price\": 57788.564,\n",
      "                    \"volume_24h\": 28357509519.724,\n",
      "                    \"market_cap\": 1095950918532.14,\n",
      "                    \"percent_change_1h\": 0.586562212123939,\n",
      "                    \"percent_change_24h\": -0.870663221633865,\n",
      "                    \"percent_change_7d\": 3.69735727702829\n",
      "                }\n",
      "            },\n",
      "            \"last_updated\": 1648959253\n",
      "        }\n",
      "    },\n",
      "    \"metadata\": {\n",
      "        \"timestamp\": 1648959253,\n",
      "        \"num_cryptocurrencies\": 3105,\n",
      "        \"error\": null\n",
      "    }\n",
      "}\n",
      "{\n",
      "    \"data\": {\n",
      "        \"1027\": {\n",
      "            \"id\": 1027,\n",
      "            \"name\": \"Ethereum\",\n",
      "            \"symbol\": \"ETH\",\n",
      "            \"website_slug\": \"ethereum\",\n",
      "            \"rank\": 2,\n",
      "            \"circulating_supply\": 120221850,\n",
      "            \"total_supply\": 120221850,\n",
      "            \"max_supply\": 0,\n",
      "            \"quotes\": {\n",
      "                \"USD\": {\n",
      "                    \"price\": 3470.26,\n",
      "                    \"volume_24h\": 18692759289,\n",
      "                    \"market_cap\": 416766704390,\n",
      "                    \"percentage_change_1h\": 0.54161271888599,\n",
      "                    \"percentage_change_24h\": 0.0775737509368804,\n",
      "                    \"percentage_change_7d\": 10.4870370494927,\n",
      "                    \"percent_change_1h\": 0.54161271888599,\n",
      "                    \"percent_change_24h\": 0.0775737509368804,\n",
      "                    \"percent_change_7d\": 10.4870370494927\n",
      "                },\n",
      "                \"CAD\": {\n",
      "                    \"price\": 4344.76552,\n",
      "                    \"volume_24h\": 23403334629.828,\n",
      "                    \"market_cap\": 521791913896.28,\n",
      "                    \"percent_change_1h\": 0.54161271888599,\n",
      "                    \"percent_change_24h\": 0.0775737509368804,\n",
      "                    \"percent_change_7d\": 10.4870370494927\n",
      "                }\n",
      "            },\n",
      "            \"last_updated\": 1648959251\n",
      "        }\n",
      "    },\n",
      "    \"metadata\": {\n",
      "        \"timestamp\": 1648959251,\n",
      "        \"num_cryptocurrencies\": 3105,\n",
      "        \"error\": null\n",
      "    }\n",
      "}\n"
     ]
    }
   ],
   "source": [
    "#response_data = requests.get(btc_url).json\n",
    "response_data_btc = requests.get(btc_url)\n",
    "response_data_btc\n",
    "response_content_btc = response_data_btc.content\n",
    "response_content_btc\n",
    "data_btc = response_data_btc.json()\n",
    "import json\n",
    "print(json.dumps(data_btc, indent=4))\n",
    "response_data_eth = requests.get(eth_url)\n",
    "response_content_eth = response_data_eth.content\n",
    "data_eth = response_data_eth.json()\n",
    "import json\n",
    "print(json.dumps(data_eth, indent=4))"
   ]
  },
  {
   "cell_type": "code",
   "execution_count": 18,
   "id": "baefaab3-df57-46d6-83f1-69c6d82dd8ee",
   "metadata": {},
   "outputs": [
    {
     "data": {
      "text/plain": [
       "dict_keys(['data', 'metadata'])"
      ]
     },
     "execution_count": 18,
     "metadata": {},
     "output_type": "execute_result"
    }
   ],
   "source": [
    "data_btc.keys()"
   ]
  },
  {
   "cell_type": "code",
   "execution_count": 19,
   "id": "9b518efb-df4f-4e99-9f8a-a16e964cc831",
   "metadata": {},
   "outputs": [
    {
     "data": {
      "text/plain": [
       "dict_keys(['price', 'volume_24h', 'market_cap', 'percentage_change_1h', 'percentage_change_24h', 'percentage_change_7d', 'percent_change_1h', 'percent_change_24h', 'percent_change_7d'])"
      ]
     },
     "execution_count": 19,
     "metadata": {},
     "output_type": "execute_result"
    }
   ],
   "source": [
    "data_btc['data']['1']['quotes']['USD'].keys()"
   ]
  },
  {
   "cell_type": "code",
   "execution_count": 20,
   "id": "c7f5c035-f339-49a8-9105-9ed425575afc",
   "metadata": {},
   "outputs": [
    {
     "name": "stdout",
     "output_type": "stream",
     "text": [
      "The current value of your 1.2 BTC is $69346.28\n",
      "The current value of your 5.3 ETH is $23027.26\n"
     ]
    }
   ],
   "source": [
    "# Fetch current price\n",
    "# Compute current value of my crpto\n",
    "btc_value =  float(data_btc[\"data\"][\"1\"][\"quotes\"][\"CAD\"][\"price\"])\n",
    "my_btc_value = my_btc * btc_value\n",
    "eth_value = float(data_eth[\"data\"][\"1027\"][\"quotes\"][\"CAD\"][\"price\"])\n",
    "my_eth_value = my_eth * eth_value\n",
    "# Print current crypto wallet balance\n",
    "print(f\"The current value of your {my_btc} BTC is ${my_btc_value:0.2f}\")\n",
    "print(f\"The current value of your {my_eth} ETH is ${my_eth_value:0.2f}\")"
   ]
  },
  {
   "cell_type": "markdown",
   "id": "b6b3ad12-233d-44da-9216-03f832421a71",
   "metadata": {},
   "source": [
    "## Collect Investments Data Using Alpaca: SPY (stocks) and AGG (bonds)\n"
   ]
  },
  {
   "cell_type": "code",
   "execution_count": 21,
   "id": "7e24057e-9c85-4f43-81f0-530bcd468a32",
   "metadata": {},
   "outputs": [],
   "source": [
    "# Current amount of shares\n",
    "my_agg = 200\n",
    "my_spy = 50"
   ]
  },
  {
   "cell_type": "code",
   "execution_count": 22,
   "id": "a8cdf51b-cc91-416c-96f9-7e69b86a4dc9",
   "metadata": {},
   "outputs": [],
   "source": [
    "alpaca_api_key = os.getenv(\"ALPACA_API_KEY\")\n",
    "alpaca_secret_key = os.getenv(\"ALPACA_SECRET_KEY\")\n",
    "\n",
    "api = tradeapi.REST(alpaca_api_key, alpaca_secret_key, api_version=\"v2\")"
   ]
  },
  {
   "cell_type": "code",
   "execution_count": 23,
   "id": "23eb11ae-ed8c-40df-bf74-e0f945e91540",
   "metadata": {},
   "outputs": [
    {
     "data": {
      "text/plain": [
       "str"
      ]
     },
     "execution_count": 23,
     "metadata": {},
     "output_type": "execute_result"
    }
   ],
   "source": [
    "type(alpaca_api_key)"
   ]
  },
  {
   "cell_type": "code",
   "execution_count": 24,
   "id": "52b515ee-ad1f-4048-bac5-b54bd7761f1a",
   "metadata": {},
   "outputs": [
    {
     "data": {
      "text/html": [
       "<div>\n",
       "<style scoped>\n",
       "    .dataframe tbody tr th:only-of-type {\n",
       "        vertical-align: middle;\n",
       "    }\n",
       "\n",
       "    .dataframe tbody tr th {\n",
       "        vertical-align: top;\n",
       "    }\n",
       "\n",
       "    .dataframe thead th {\n",
       "        text-align: right;\n",
       "    }\n",
       "</style>\n",
       "<table border=\"1\" class=\"dataframe\">\n",
       "  <thead>\n",
       "    <tr style=\"text-align: right;\">\n",
       "      <th></th>\n",
       "      <th>open</th>\n",
       "      <th>high</th>\n",
       "      <th>low</th>\n",
       "      <th>close</th>\n",
       "      <th>volume</th>\n",
       "      <th>trade_count</th>\n",
       "      <th>vwap</th>\n",
       "      <th>symbol</th>\n",
       "    </tr>\n",
       "  </thead>\n",
       "  <tbody>\n",
       "    <tr>\n",
       "      <th>2022-03-21</th>\n",
       "      <td>107.58</td>\n",
       "      <td>107.649</td>\n",
       "      <td>106.9841</td>\n",
       "      <td>107.04</td>\n",
       "      <td>7583668</td>\n",
       "      <td>27316</td>\n",
       "      <td>107.310151</td>\n",
       "      <td>AGG</td>\n",
       "    </tr>\n",
       "    <tr>\n",
       "      <th>2022-03-21</th>\n",
       "      <td>444.45</td>\n",
       "      <td>446.460</td>\n",
       "      <td>440.6800</td>\n",
       "      <td>444.30</td>\n",
       "      <td>85377983</td>\n",
       "      <td>912432</td>\n",
       "      <td>443.796432</td>\n",
       "      <td>SPY</td>\n",
       "    </tr>\n",
       "  </tbody>\n",
       "</table>\n",
       "</div>"
      ],
      "text/plain": [
       "              open     high       low   close    volume  trade_count  \\\n",
       "2022-03-21  107.58  107.649  106.9841  107.04   7583668        27316   \n",
       "2022-03-21  444.45  446.460  440.6800  444.30  85377983       912432   \n",
       "\n",
       "                  vwap symbol  \n",
       "2022-03-21  107.310151    AGG  \n",
       "2022-03-21  443.796432    SPY  "
      ]
     },
     "execution_count": 24,
     "metadata": {},
     "output_type": "execute_result"
    }
   ],
   "source": [
    "# Format current date as ISO format\n",
    "start_date = \"2022-03-21\"\n",
    "end_date = \"2022-03-21\"\n",
    "# Set the tickers\n",
    "tickers = [\"AGG\", \"SPY\"]\n",
    "# Set timeframe to '1D' for Alpaca API\n",
    "timeframe = TimeFrame.Day\n",
    "# Get current closing prices for SPY and AGG\n",
    "df_portfolio = api.get_bars( tickers, timeframe, start_date, end_date, adjustment='raw').df\n",
    "# Drop the time component of the date\n",
    "df_portfolio.index = df_portfolio.index.date\n",
    "# Preview DataFrame\n",
    "df_portfolio.head()\n",
    "\n",
    "\n"
   ]
  },
  {
   "cell_type": "code",
   "execution_count": 25,
   "id": "53b8bd8d-771c-474b-9add-844fc5711924",
   "metadata": {},
   "outputs": [
    {
     "data": {
      "text/html": [
       "<div>\n",
       "<style scoped>\n",
       "    .dataframe tbody tr th:only-of-type {\n",
       "        vertical-align: middle;\n",
       "    }\n",
       "\n",
       "    .dataframe tbody tr th {\n",
       "        vertical-align: top;\n",
       "    }\n",
       "\n",
       "    .dataframe thead tr th {\n",
       "        text-align: left;\n",
       "    }\n",
       "</style>\n",
       "<table border=\"1\" class=\"dataframe\">\n",
       "  <thead>\n",
       "    <tr>\n",
       "      <th></th>\n",
       "      <th colspan=\"7\" halign=\"left\">AGG</th>\n",
       "      <th colspan=\"7\" halign=\"left\">SPY</th>\n",
       "    </tr>\n",
       "    <tr>\n",
       "      <th></th>\n",
       "      <th>open</th>\n",
       "      <th>high</th>\n",
       "      <th>low</th>\n",
       "      <th>close</th>\n",
       "      <th>volume</th>\n",
       "      <th>trade_count</th>\n",
       "      <th>vwap</th>\n",
       "      <th>open</th>\n",
       "      <th>high</th>\n",
       "      <th>low</th>\n",
       "      <th>close</th>\n",
       "      <th>volume</th>\n",
       "      <th>trade_count</th>\n",
       "      <th>vwap</th>\n",
       "    </tr>\n",
       "  </thead>\n",
       "  <tbody>\n",
       "    <tr>\n",
       "      <th>2022-03-21</th>\n",
       "      <td>107.58</td>\n",
       "      <td>107.649</td>\n",
       "      <td>106.9841</td>\n",
       "      <td>107.04</td>\n",
       "      <td>7583668</td>\n",
       "      <td>27316</td>\n",
       "      <td>107.310151</td>\n",
       "      <td>444.45</td>\n",
       "      <td>446.46</td>\n",
       "      <td>440.68</td>\n",
       "      <td>444.3</td>\n",
       "      <td>85377983</td>\n",
       "      <td>912432</td>\n",
       "      <td>443.796432</td>\n",
       "    </tr>\n",
       "  </tbody>\n",
       "</table>\n",
       "</div>"
      ],
      "text/plain": [
       "               AGG                                                  \\\n",
       "              open     high       low   close   volume trade_count   \n",
       "2022-03-21  107.58  107.649  106.9841  107.04  7583668       27316   \n",
       "\n",
       "                           SPY                                               \\\n",
       "                  vwap    open    high     low  close    volume trade_count   \n",
       "2022-03-21  107.310151  444.45  446.46  440.68  444.3  85377983      912432   \n",
       "\n",
       "                        \n",
       "                  vwap  \n",
       "2022-03-21  443.796432  "
      ]
     },
     "execution_count": 25,
     "metadata": {},
     "output_type": "execute_result"
    }
   ],
   "source": [
    "agg = df_portfolio[df_portfolio[\"symbol\"] == \"AGG\"].drop(\"symbol\", axis=1)\n",
    "spy = df_portfolio[df_portfolio[\"symbol\"] == \"SPY\"].drop(\"symbol\", axis=1)\n",
    "\n",
    "df_ticker = pd.concat([agg, spy], axis=1, keys=[\"AGG\", \"SPY\"])\n",
    "df_ticker.head()\n",
    "\n"
   ]
  },
  {
   "cell_type": "code",
   "execution_count": 26,
   "id": "e2ff139c-7b6d-40bd-ad41-77669773a721",
   "metadata": {},
   "outputs": [
    {
     "name": "stdout",
     "output_type": "stream",
     "text": [
      "Current AGG closing price: $107.04\n",
      "Current SPY closing price: $444.3\n"
     ]
    }
   ],
   "source": [
    "# Pick AGG and SPY close prices\n",
    "agg_close_price = float(df_ticker[\"AGG\"][\"close\"])\n",
    "spy_close_price = float(df_ticker[\"SPY\"][\"close\"])\n",
    "# Print AGG and SPY close prices\n",
    "print(f\"Current AGG closing price: ${agg_close_price}\")\n",
    "print(f\"Current SPY closing price: ${spy_close_price}\")"
   ]
  },
  {
   "cell_type": "code",
   "execution_count": 27,
   "id": "d3528da2-6f09-4749-96ae-6466b829164f",
   "metadata": {},
   "outputs": [
    {
     "name": "stdout",
     "output_type": "stream",
     "text": [
      "The current value of your 50 SPY shares is $22215.00\n",
      "The current value of your 200 AGG shares is $21408.00\n"
     ]
    }
   ],
   "source": [
    "# Compute the current value of shares\n",
    "my_agg_value = my_agg * agg_close_price \n",
    "my_spy_value = my_spy * spy_close_price \n",
    "# Print current value of share\n",
    "print(f\"The current value of your {my_spy} SPY shares is ${my_spy_value:0.2f}\")\n",
    "print(f\"The current value of your {my_agg} AGG shares is ${my_agg_value:0.2f}\")"
   ]
  },
  {
   "cell_type": "markdown",
   "id": "6bc01c64-1d27-4f7c-bda5-f11a61664700",
   "metadata": {},
   "source": [
    "## Saving Analysis"
   ]
  },
  {
   "cell_type": "code",
   "execution_count": 28,
   "id": "093b24fe-6121-44e7-99df-3d61ed20bda2",
   "metadata": {},
   "outputs": [
    {
     "data": {
      "text/html": [
       "<div>\n",
       "<style scoped>\n",
       "    .dataframe tbody tr th:only-of-type {\n",
       "        vertical-align: middle;\n",
       "    }\n",
       "\n",
       "    .dataframe tbody tr th {\n",
       "        vertical-align: top;\n",
       "    }\n",
       "\n",
       "    .dataframe thead th {\n",
       "        text-align: right;\n",
       "    }\n",
       "</style>\n",
       "<table border=\"1\" class=\"dataframe\">\n",
       "  <thead>\n",
       "    <tr style=\"text-align: right;\">\n",
       "      <th></th>\n",
       "      <th>Amount</th>\n",
       "    </tr>\n",
       "  </thead>\n",
       "  <tbody>\n",
       "    <tr>\n",
       "      <th>Crypto</th>\n",
       "      <td>92373.534056</td>\n",
       "    </tr>\n",
       "    <tr>\n",
       "      <th>Shares</th>\n",
       "      <td>43623.000000</td>\n",
       "    </tr>\n",
       "  </tbody>\n",
       "</table>\n",
       "</div>"
      ],
      "text/plain": [
       "              Amount\n",
       "Crypto  92373.534056\n",
       "Shares  43623.000000"
      ]
     },
     "execution_count": 28,
     "metadata": {},
     "output_type": "execute_result"
    }
   ],
   "source": [
    "monthly_income = 12000\n",
    "total_crypto = my_btc_value + my_eth_value\n",
    "total_shares_value = my_agg_value + my_spy_value\n",
    "savings = [total_crypto, total_shares_value]\n",
    "\n",
    "df_savings = pd.DataFrame(savings, columns=['Amount'], index=['Crypto','Shares'])\n",
    "df_savings\n"
   ]
  },
  {
   "cell_type": "code",
   "execution_count": 29,
   "id": "f234f526-f005-44b2-8095-b4eeea8a19e0",
   "metadata": {},
   "outputs": [
    {
     "data": {
      "text/plain": [
       "<AxesSubplot:title={'center':'Composition of Personal Savings'}, ylabel='Amount'>"
      ]
     },
     "execution_count": 29,
     "metadata": {},
     "output_type": "execute_result"
    },
    {
     "data": {
      "image/png": "[encoded data removed]",
      "text/plain": [
       "<Figure size 432x288 with 1 Axes>"
      ]
     },
     "metadata": {},
     "output_type": "display_data"
    }
   ],
   "source": [
    "df_savings.plot.pie(y=\"Amount\", title=\"Composition of Personal Savings\")\n"
   ]
  },
  {
   "cell_type": "code",
   "execution_count": 30,
   "id": "36914f5c-6e14-4f9a-a10b-4c68ffff702e",
   "metadata": {},
   "outputs": [
    {
     "name": "stdout",
     "output_type": "stream",
     "text": [
      "Congratuations! You have enough money in your emergency fund.\n"
     ]
    }
   ],
   "source": [
    "# Set ideal emergency fund\n",
    "emergency_fund = monthly_income * 3\n",
    "# Calculate total amount of savings\n",
    "total_savings = total_crypto + total_shares_value\n",
    "# Validate saving health\n",
    "if emergency_fund < total_savings:\n",
    "        print(\"Congratuations! You have enough money in your emergency fund.\")\n",
    "elif emergency_fund == total_savings:\n",
    "        print(\"Congratulations! You have reach this financial goal\")\n",
    "else:\n",
    "        print(f\"You are {emergency_fund - total_savings} dollars away from reaching the goal\")\n",
    "              "
   ]
  },
  {
   "cell_type": "markdown",
   "id": "759535e0-a319-4c15-b0ce-7328f1d5f9fa",
   "metadata": {},
   "source": [
    "## Part Part 2 - Retirement Planning"
   ]
  },
  {
   "cell_type": "markdown",
   "id": "92b296ba-bea7-4f52-9071-74f5c5d331d6",
   "metadata": {},
   "source": [
    "## Monte Carlo Simulation"
   ]
  },
  {
   "cell_type": "code",
   "execution_count": 35,
   "id": "ee6e953a-e746-49ec-8f69-6bfa47828317",
   "metadata": {},
   "outputs": [],
   "source": [
    "# Set start and end dates of five years back from today.\n",
    "# Sample results may vary from the solution based on the time frame chosen\n",
    "start_date = \"2017-03-20\"\n",
    "end_date = \"2022-03-20\""
   ]
  },
  {
   "cell_type": "code",
   "execution_count": 44,
   "id": "a12036c3-daa3-4685-9bef-f49623e6bf27",
   "metadata": {},
   "outputs": [],
   "source": [
    "# Get 5 years' worth of historical data for SPY and AGG\n",
    "tickers = [\"AGG\",\"SPY\"]\n",
    "df_stock = api.get_bars(tickers, TimeFrame.Day, start_date, end_date, adjustment='raw').df\n",
    "df_stock.index=df_stock.index.date\n",
    "df_stock=df_stock[['close', 'symbol']]\n",
    "\n",
    "# Display sample data\n",
    "df_stock.head()\n",
    "pivot_table = pd.pivot_table(df_stock, values='close', index=df_stock.index, columns=['symbol'])\n"
   ]
  },
  {
   "cell_type": "code",
   "execution_count": 45,
   "id": "16ff3c87-39de-4405-8ab6-8cd9b956f54d",
   "metadata": {},
   "outputs": [
    {
     "data": {
      "text/html": [
       "<div>\n",
       "<style scoped>\n",
       "    .dataframe tbody tr th:only-of-type {\n",
       "        vertical-align: middle;\n",
       "    }\n",
       "\n",
       "    .dataframe tbody tr th {\n",
       "        vertical-align: top;\n",
       "    }\n",
       "\n",
       "    .dataframe thead tr th {\n",
       "        text-align: left;\n",
       "    }\n",
       "</style>\n",
       "<table border=\"1\" class=\"dataframe\">\n",
       "  <thead>\n",
       "    <tr>\n",
       "      <th></th>\n",
       "      <th>AGG</th>\n",
       "      <th>SPY</th>\n",
       "    </tr>\n",
       "    <tr>\n",
       "      <th></th>\n",
       "      <th>close</th>\n",
       "      <th>close</th>\n",
       "    </tr>\n",
       "  </thead>\n",
       "  <tbody>\n",
       "    <tr>\n",
       "      <th>2017-03-20</th>\n",
       "      <td>108.05</td>\n",
       "      <td>236.77</td>\n",
       "    </tr>\n",
       "    <tr>\n",
       "      <th>2017-03-21</th>\n",
       "      <td>108.27</td>\n",
       "      <td>233.73</td>\n",
       "    </tr>\n",
       "    <tr>\n",
       "      <th>2017-03-22</th>\n",
       "      <td>108.42</td>\n",
       "      <td>234.28</td>\n",
       "    </tr>\n",
       "    <tr>\n",
       "      <th>2017-03-23</th>\n",
       "      <td>108.45</td>\n",
       "      <td>234.03</td>\n",
       "    </tr>\n",
       "    <tr>\n",
       "      <th>2017-03-24</th>\n",
       "      <td>108.36</td>\n",
       "      <td>233.86</td>\n",
       "    </tr>\n",
       "    <tr>\n",
       "      <th>...</th>\n",
       "      <td>...</td>\n",
       "      <td>...</td>\n",
       "    </tr>\n",
       "    <tr>\n",
       "      <th>2022-03-14</th>\n",
       "      <td>107.36</td>\n",
       "      <td>417.00</td>\n",
       "    </tr>\n",
       "    <tr>\n",
       "      <th>2022-03-15</th>\n",
       "      <td>107.60</td>\n",
       "      <td>426.17</td>\n",
       "    </tr>\n",
       "    <tr>\n",
       "      <th>2022-03-16</th>\n",
       "      <td>107.68</td>\n",
       "      <td>435.55</td>\n",
       "    </tr>\n",
       "    <tr>\n",
       "      <th>2022-03-17</th>\n",
       "      <td>107.86</td>\n",
       "      <td>441.07</td>\n",
       "    </tr>\n",
       "    <tr>\n",
       "      <th>2022-03-18</th>\n",
       "      <td>108.10</td>\n",
       "      <td>444.31</td>\n",
       "    </tr>\n",
       "  </tbody>\n",
       "</table>\n",
       "<p>1260 rows × 2 columns</p>\n",
       "</div>"
      ],
      "text/plain": [
       "               AGG     SPY\n",
       "             close   close\n",
       "2017-03-20  108.05  236.77\n",
       "2017-03-21  108.27  233.73\n",
       "2017-03-22  108.42  234.28\n",
       "2017-03-23  108.45  234.03\n",
       "2017-03-24  108.36  233.86\n",
       "...            ...     ...\n",
       "2022-03-14  107.36  417.00\n",
       "2022-03-15  107.60  426.17\n",
       "2022-03-16  107.68  435.55\n",
       "2022-03-17  107.86  441.07\n",
       "2022-03-18  108.10  444.31\n",
       "\n",
       "[1260 rows x 2 columns]"
      ]
     },
     "execution_count": 45,
     "metadata": {},
     "output_type": "execute_result"
    }
   ],
   "source": [
    "ticker = list(pivot_table.columns)\n",
    "ticker = [(x,'close') for x in pivot_table.columns]\n",
    "micolumns = pd.MultiIndex.from_tuples(ticker)\n",
    "pivot_table.columns = micolumns\n",
    "pivot_table"
   ]
  },
  {
   "cell_type": "code",
   "execution_count": 46,
   "id": "20098c04-9f6a-4bc0-80d8-4408ef027b69",
   "metadata": {},
   "outputs": [],
   "source": [
    "MC_dist= MCSimulation(\n",
    "    portfolio_data = pivottable,\n",
    "    weights = [.40,.60],\n",
    "    num_simulation = 500,\n",
    "    num_trading_days = 252*30\n",
    ")"
   ]
  },
  {
   "cell_type": "code",
   "execution_count": 47,
   "id": "a82c29c6-9190-4108-908d-5f2d0997c580",
   "metadata": {},
   "outputs": [
    {
     "name": "stdout",
     "output_type": "stream",
     "text": [
      "Running Monte Carlo simulation number 0.\n",
      "Running Monte Carlo simulation number 10.\n",
      "Running Monte Carlo simulation number 20.\n",
      "Running Monte Carlo simulation number 30.\n",
      "Running Monte Carlo simulation number 40.\n",
      "Running Monte Carlo simulation number 50.\n",
      "Running Monte Carlo simulation number 60.\n",
      "Running Monte Carlo simulation number 70.\n",
      "Running Monte Carlo simulation number 80.\n",
      "Running Monte Carlo simulation number 90.\n",
      "Running Monte Carlo simulation number 100.\n"
     ]
    },
    {
     "name": "stderr",
     "output_type": "stream",
     "text": [
      "C:\\Users\\jahan\\OneDrive\\Documents\\Jupyter\\MCForecastTools.py:117: PerformanceWarning: DataFrame is highly fragmented.  This is usually the result of calling `frame.insert` many times, which has poor performance.  Consider joining all columns at once using pd.concat(axis=1) instead.  To get a de-fragmented frame, use `newframe = frame.copy()`\n",
      "  portfolio_cumulative_returns[n] = (1 + sim_df.fillna(0)).cumprod()\n"
     ]
    },
    {
     "name": "stdout",
     "output_type": "stream",
     "text": [
      "Running Monte Carlo simulation number 110.\n",
      "Running Monte Carlo simulation number 120.\n",
      "Running Monte Carlo simulation number 130.\n",
      "Running Monte Carlo simulation number 140.\n",
      "Running Monte Carlo simulation number 150.\n",
      "Running Monte Carlo simulation number 160.\n",
      "Running Monte Carlo simulation number 170.\n",
      "Running Monte Carlo simulation number 180.\n",
      "Running Monte Carlo simulation number 190.\n",
      "Running Monte Carlo simulation number 200.\n",
      "Running Monte Carlo simulation number 210.\n",
      "Running Monte Carlo simulation number 220.\n",
      "Running Monte Carlo simulation number 230.\n",
      "Running Monte Carlo simulation number 240.\n",
      "Running Monte Carlo simulation number 250.\n",
      "Running Monte Carlo simulation number 260.\n",
      "Running Monte Carlo simulation number 270.\n",
      "Running Monte Carlo simulation number 280.\n",
      "Running Monte Carlo simulation number 290.\n",
      "Running Monte Carlo simulation number 300.\n",
      "Running Monte Carlo simulation number 310.\n",
      "Running Monte Carlo simulation number 320.\n",
      "Running Monte Carlo simulation number 330.\n",
      "Running Monte Carlo simulation number 340.\n",
      "Running Monte Carlo simulation number 350.\n",
      "Running Monte Carlo simulation number 360.\n",
      "Running Monte Carlo simulation number 370.\n",
      "Running Monte Carlo simulation number 380.\n",
      "Running Monte Carlo simulation number 390.\n",
      "Running Monte Carlo simulation number 400.\n",
      "Running Monte Carlo simulation number 410.\n",
      "Running Monte Carlo simulation number 420.\n",
      "Running Monte Carlo simulation number 430.\n",
      "Running Monte Carlo simulation number 440.\n",
      "Running Monte Carlo simulation number 450.\n",
      "Running Monte Carlo simulation number 460.\n",
      "Running Monte Carlo simulation number 470.\n",
      "Running Monte Carlo simulation number 480.\n",
      "Running Monte Carlo simulation number 490.\n"
     ]
    },
    {
     "data": {
      "text/html": [
       "<div>\n",
       "<style scoped>\n",
       "    .dataframe tbody tr th:only-of-type {\n",
       "        vertical-align: middle;\n",
       "    }\n",
       "\n",
       "    .dataframe tbody tr th {\n",
       "        vertical-align: top;\n",
       "    }\n",
       "\n",
       "    .dataframe thead th {\n",
       "        text-align: right;\n",
       "    }\n",
       "</style>\n",
       "<table border=\"1\" class=\"dataframe\">\n",
       "  <thead>\n",
       "    <tr style=\"text-align: right;\">\n",
       "      <th></th>\n",
       "      <th>0</th>\n",
       "      <th>1</th>\n",
       "      <th>2</th>\n",
       "      <th>3</th>\n",
       "      <th>4</th>\n",
       "      <th>5</th>\n",
       "      <th>6</th>\n",
       "      <th>7</th>\n",
       "      <th>8</th>\n",
       "      <th>9</th>\n",
       "      <th>...</th>\n",
       "      <th>490</th>\n",
       "      <th>491</th>\n",
       "      <th>492</th>\n",
       "      <th>493</th>\n",
       "      <th>494</th>\n",
       "      <th>495</th>\n",
       "      <th>496</th>\n",
       "      <th>497</th>\n",
       "      <th>498</th>\n",
       "      <th>499</th>\n",
       "    </tr>\n",
       "  </thead>\n",
       "  <tbody>\n",
       "    <tr>\n",
       "      <th>0</th>\n",
       "      <td>1.000000</td>\n",
       "      <td>1.000000</td>\n",
       "      <td>1.000000</td>\n",
       "      <td>1.000000</td>\n",
       "      <td>1.000000</td>\n",
       "      <td>1.000000</td>\n",
       "      <td>1.000000</td>\n",
       "      <td>1.000000</td>\n",
       "      <td>1.000000</td>\n",
       "      <td>1.000000</td>\n",
       "      <td>...</td>\n",
       "      <td>1.000000</td>\n",
       "      <td>1.000000</td>\n",
       "      <td>1.000000</td>\n",
       "      <td>1.000000</td>\n",
       "      <td>1.000000</td>\n",
       "      <td>1.000000</td>\n",
       "      <td>1.000000</td>\n",
       "      <td>1.000000</td>\n",
       "      <td>1.000000</td>\n",
       "      <td>1.000000</td>\n",
       "    </tr>\n",
       "    <tr>\n",
       "      <th>1</th>\n",
       "      <td>1.002190</td>\n",
       "      <td>0.999718</td>\n",
       "      <td>1.011419</td>\n",
       "      <td>1.002606</td>\n",
       "      <td>1.004664</td>\n",
       "      <td>1.014362</td>\n",
       "      <td>0.993440</td>\n",
       "      <td>0.992497</td>\n",
       "      <td>1.003940</td>\n",
       "      <td>0.997563</td>\n",
       "      <td>...</td>\n",
       "      <td>1.002507</td>\n",
       "      <td>0.996308</td>\n",
       "      <td>0.996640</td>\n",
       "      <td>1.004796</td>\n",
       "      <td>0.996896</td>\n",
       "      <td>1.003142</td>\n",
       "      <td>0.988922</td>\n",
       "      <td>0.998647</td>\n",
       "      <td>1.003256</td>\n",
       "      <td>1.001215</td>\n",
       "    </tr>\n",
       "    <tr>\n",
       "      <th>2</th>\n",
       "      <td>1.005734</td>\n",
       "      <td>0.989402</td>\n",
       "      <td>1.014320</td>\n",
       "      <td>0.993054</td>\n",
       "      <td>1.007014</td>\n",
       "      <td>1.001244</td>\n",
       "      <td>0.985539</td>\n",
       "      <td>0.996122</td>\n",
       "      <td>1.003918</td>\n",
       "      <td>0.998700</td>\n",
       "      <td>...</td>\n",
       "      <td>1.004821</td>\n",
       "      <td>0.986297</td>\n",
       "      <td>0.997802</td>\n",
       "      <td>1.008756</td>\n",
       "      <td>0.990443</td>\n",
       "      <td>1.004961</td>\n",
       "      <td>0.988828</td>\n",
       "      <td>1.011286</td>\n",
       "      <td>1.001892</td>\n",
       "      <td>1.009703</td>\n",
       "    </tr>\n",
       "    <tr>\n",
       "      <th>3</th>\n",
       "      <td>1.004777</td>\n",
       "      <td>0.984031</td>\n",
       "      <td>1.022383</td>\n",
       "      <td>0.995387</td>\n",
       "      <td>1.005244</td>\n",
       "      <td>0.992829</td>\n",
       "      <td>0.976783</td>\n",
       "      <td>1.005798</td>\n",
       "      <td>0.994737</td>\n",
       "      <td>0.992579</td>\n",
       "      <td>...</td>\n",
       "      <td>1.007610</td>\n",
       "      <td>0.977019</td>\n",
       "      <td>0.996503</td>\n",
       "      <td>1.019697</td>\n",
       "      <td>0.991233</td>\n",
       "      <td>1.009915</td>\n",
       "      <td>0.978764</td>\n",
       "      <td>1.006251</td>\n",
       "      <td>0.996876</td>\n",
       "      <td>1.013411</td>\n",
       "    </tr>\n",
       "    <tr>\n",
       "      <th>4</th>\n",
       "      <td>1.003275</td>\n",
       "      <td>0.991008</td>\n",
       "      <td>1.020891</td>\n",
       "      <td>0.999484</td>\n",
       "      <td>1.016835</td>\n",
       "      <td>1.001494</td>\n",
       "      <td>0.975293</td>\n",
       "      <td>1.007697</td>\n",
       "      <td>0.982248</td>\n",
       "      <td>0.978764</td>\n",
       "      <td>...</td>\n",
       "      <td>0.997536</td>\n",
       "      <td>0.980741</td>\n",
       "      <td>0.994157</td>\n",
       "      <td>1.024591</td>\n",
       "      <td>0.994149</td>\n",
       "      <td>0.994574</td>\n",
       "      <td>0.970923</td>\n",
       "      <td>1.012003</td>\n",
       "      <td>0.988210</td>\n",
       "      <td>1.008172</td>\n",
       "    </tr>\n",
       "    <tr>\n",
       "      <th>...</th>\n",
       "      <td>...</td>\n",
       "      <td>...</td>\n",
       "      <td>...</td>\n",
       "      <td>...</td>\n",
       "      <td>...</td>\n",
       "      <td>...</td>\n",
       "      <td>...</td>\n",
       "      <td>...</td>\n",
       "      <td>...</td>\n",
       "      <td>...</td>\n",
       "      <td>...</td>\n",
       "      <td>...</td>\n",
       "      <td>...</td>\n",
       "      <td>...</td>\n",
       "      <td>...</td>\n",
       "      <td>...</td>\n",
       "      <td>...</td>\n",
       "      <td>...</td>\n",
       "      <td>...</td>\n",
       "      <td>...</td>\n",
       "      <td>...</td>\n",
       "    </tr>\n",
       "    <tr>\n",
       "      <th>7556</th>\n",
       "      <td>2.478460</td>\n",
       "      <td>8.409724</td>\n",
       "      <td>14.766742</td>\n",
       "      <td>5.956576</td>\n",
       "      <td>71.225385</td>\n",
       "      <td>2.889809</td>\n",
       "      <td>19.936357</td>\n",
       "      <td>12.565853</td>\n",
       "      <td>6.072998</td>\n",
       "      <td>2.176003</td>\n",
       "      <td>...</td>\n",
       "      <td>20.310351</td>\n",
       "      <td>6.132539</td>\n",
       "      <td>7.507886</td>\n",
       "      <td>8.876951</td>\n",
       "      <td>8.607137</td>\n",
       "      <td>6.081392</td>\n",
       "      <td>8.628493</td>\n",
       "      <td>8.488481</td>\n",
       "      <td>6.090340</td>\n",
       "      <td>18.619727</td>\n",
       "    </tr>\n",
       "    <tr>\n",
       "      <th>7557</th>\n",
       "      <td>2.468758</td>\n",
       "      <td>8.365562</td>\n",
       "      <td>14.688496</td>\n",
       "      <td>5.953411</td>\n",
       "      <td>71.659357</td>\n",
       "      <td>2.943046</td>\n",
       "      <td>19.781675</td>\n",
       "      <td>12.751141</td>\n",
       "      <td>6.036536</td>\n",
       "      <td>2.155530</td>\n",
       "      <td>...</td>\n",
       "      <td>20.353886</td>\n",
       "      <td>6.120694</td>\n",
       "      <td>7.460783</td>\n",
       "      <td>8.820610</td>\n",
       "      <td>8.648048</td>\n",
       "      <td>5.980960</td>\n",
       "      <td>8.652687</td>\n",
       "      <td>8.522957</td>\n",
       "      <td>6.075222</td>\n",
       "      <td>18.445844</td>\n",
       "    </tr>\n",
       "    <tr>\n",
       "      <th>7558</th>\n",
       "      <td>2.496392</td>\n",
       "      <td>8.322400</td>\n",
       "      <td>14.846621</td>\n",
       "      <td>5.949458</td>\n",
       "      <td>71.982716</td>\n",
       "      <td>2.928359</td>\n",
       "      <td>19.681998</td>\n",
       "      <td>12.776822</td>\n",
       "      <td>5.974532</td>\n",
       "      <td>2.167052</td>\n",
       "      <td>...</td>\n",
       "      <td>20.168065</td>\n",
       "      <td>6.119134</td>\n",
       "      <td>7.487865</td>\n",
       "      <td>8.792171</td>\n",
       "      <td>8.582021</td>\n",
       "      <td>5.930979</td>\n",
       "      <td>8.677083</td>\n",
       "      <td>8.553345</td>\n",
       "      <td>6.108886</td>\n",
       "      <td>18.277162</td>\n",
       "    </tr>\n",
       "    <tr>\n",
       "      <th>7559</th>\n",
       "      <td>2.536702</td>\n",
       "      <td>8.326293</td>\n",
       "      <td>14.780831</td>\n",
       "      <td>5.987492</td>\n",
       "      <td>71.711433</td>\n",
       "      <td>2.944232</td>\n",
       "      <td>19.960279</td>\n",
       "      <td>12.719293</td>\n",
       "      <td>5.958458</td>\n",
       "      <td>2.191209</td>\n",
       "      <td>...</td>\n",
       "      <td>20.247479</td>\n",
       "      <td>6.064877</td>\n",
       "      <td>7.528497</td>\n",
       "      <td>8.824704</td>\n",
       "      <td>8.601906</td>\n",
       "      <td>5.936461</td>\n",
       "      <td>8.715002</td>\n",
       "      <td>8.583944</td>\n",
       "      <td>6.108631</td>\n",
       "      <td>18.400751</td>\n",
       "    </tr>\n",
       "    <tr>\n",
       "      <th>7560</th>\n",
       "      <td>2.536869</td>\n",
       "      <td>8.260181</td>\n",
       "      <td>14.686598</td>\n",
       "      <td>5.956721</td>\n",
       "      <td>72.036956</td>\n",
       "      <td>2.951562</td>\n",
       "      <td>19.796353</td>\n",
       "      <td>12.720726</td>\n",
       "      <td>5.975831</td>\n",
       "      <td>2.162912</td>\n",
       "      <td>...</td>\n",
       "      <td>20.274391</td>\n",
       "      <td>6.030987</td>\n",
       "      <td>7.480401</td>\n",
       "      <td>8.769116</td>\n",
       "      <td>8.590383</td>\n",
       "      <td>5.970805</td>\n",
       "      <td>8.706898</td>\n",
       "      <td>8.555341</td>\n",
       "      <td>6.039756</td>\n",
       "      <td>18.587257</td>\n",
       "    </tr>\n",
       "  </tbody>\n",
       "</table>\n",
       "<p>7561 rows × 500 columns</p>\n",
       "</div>"
      ],
      "text/plain": [
       "           0         1          2         3          4         5          6    \\\n",
       "0     1.000000  1.000000   1.000000  1.000000   1.000000  1.000000   1.000000   \n",
       "1     1.002190  0.999718   1.011419  1.002606   1.004664  1.014362   0.993440   \n",
       "2     1.005734  0.989402   1.014320  0.993054   1.007014  1.001244   0.985539   \n",
       "3     1.004777  0.984031   1.022383  0.995387   1.005244  0.992829   0.976783   \n",
       "4     1.003275  0.991008   1.020891  0.999484   1.016835  1.001494   0.975293   \n",
       "...        ...       ...        ...       ...        ...       ...        ...   \n",
       "7556  2.478460  8.409724  14.766742  5.956576  71.225385  2.889809  19.936357   \n",
       "7557  2.468758  8.365562  14.688496  5.953411  71.659357  2.943046  19.781675   \n",
       "7558  2.496392  8.322400  14.846621  5.949458  71.982716  2.928359  19.681998   \n",
       "7559  2.536702  8.326293  14.780831  5.987492  71.711433  2.944232  19.960279   \n",
       "7560  2.536869  8.260181  14.686598  5.956721  72.036956  2.951562  19.796353   \n",
       "\n",
       "            7         8         9    ...        490       491       492  \\\n",
       "0      1.000000  1.000000  1.000000  ...   1.000000  1.000000  1.000000   \n",
       "1      0.992497  1.003940  0.997563  ...   1.002507  0.996308  0.996640   \n",
       "2      0.996122  1.003918  0.998700  ...   1.004821  0.986297  0.997802   \n",
       "3      1.005798  0.994737  0.992579  ...   1.007610  0.977019  0.996503   \n",
       "4      1.007697  0.982248  0.978764  ...   0.997536  0.980741  0.994157   \n",
       "...         ...       ...       ...  ...        ...       ...       ...   \n",
       "7556  12.565853  6.072998  2.176003  ...  20.310351  6.132539  7.507886   \n",
       "7557  12.751141  6.036536  2.155530  ...  20.353886  6.120694  7.460783   \n",
       "7558  12.776822  5.974532  2.167052  ...  20.168065  6.119134  7.487865   \n",
       "7559  12.719293  5.958458  2.191209  ...  20.247479  6.064877  7.528497   \n",
       "7560  12.720726  5.975831  2.162912  ...  20.274391  6.030987  7.480401   \n",
       "\n",
       "           493       494       495       496       497       498        499  \n",
       "0     1.000000  1.000000  1.000000  1.000000  1.000000  1.000000   1.000000  \n",
       "1     1.004796  0.996896  1.003142  0.988922  0.998647  1.003256   1.001215  \n",
       "2     1.008756  0.990443  1.004961  0.988828  1.011286  1.001892   1.009703  \n",
       "3     1.019697  0.991233  1.009915  0.978764  1.006251  0.996876   1.013411  \n",
       "4     1.024591  0.994149  0.994574  0.970923  1.012003  0.988210   1.008172  \n",
       "...        ...       ...       ...       ...       ...       ...        ...  \n",
       "7556  8.876951  8.607137  6.081392  8.628493  8.488481  6.090340  18.619727  \n",
       "7557  8.820610  8.648048  5.980960  8.652687  8.522957  6.075222  18.445844  \n",
       "7558  8.792171  8.582021  5.930979  8.677083  8.553345  6.108886  18.277162  \n",
       "7559  8.824704  8.601906  5.936461  8.715002  8.583944  6.108631  18.400751  \n",
       "7560  8.769116  8.590383  5.970805  8.706898  8.555341  6.039756  18.587257  \n",
       "\n",
       "[7561 rows x 500 columns]"
      ]
     },
     "execution_count": 47,
     "metadata": {},
     "output_type": "execute_result"
    }
   ],
   "source": [
    "MC_dist.calc_cumulative_return()\n"
   ]
  },
  {
   "cell_type": "code",
   "execution_count": 49,
   "id": "c6f9003c-d591-496f-8762-c2d50cf0f89e",
   "metadata": {},
   "outputs": [
    {
     "data": {
      "image/png": "[encoded data removed]",
      "text/plain": [
       "<Figure size 432x288 with 1 Axes>"
      ]
     },
     "metadata": {
      "needs_background": "light"
     },
     "output_type": "display_data"
    }
   ],
   "source": [
    "line_plot_ten = MC_dist.plot_simulation()\n"
   ]
  },
  {
   "cell_type": "code",
   "execution_count": 51,
   "id": "1e8e8967-c71b-435f-b42c-9c7f84c2ec70",
   "metadata": {},
   "outputs": [
    {
     "data": {
      "image/png": "[encoded data removed]",
      "text/plain": [
       "<Figure size 432x288 with 1 Axes>"
      ]
     },
     "metadata": {
      "needs_background": "light"
     },
     "output_type": "display_data"
    }
   ],
   "source": [
    "# Plot probability distribution and confidence intervals\n",
    "dist_plot_five = MC_dist.plot_distribution()\n"
   ]
  },
  {
   "cell_type": "code",
   "execution_count": 53,
   "id": "cdafdfa9-7b6e-4efa-945d-cf5f255f9e39",
   "metadata": {},
   "outputs": [
    {
     "name": "stdout",
     "output_type": "stream",
     "text": [
      "count           500.000000\n",
      "mean             14.424652\n",
      "std              10.121800\n",
      "min               1.709409\n",
      "25%               7.375137\n",
      "50%              12.209125\n",
      "75%              18.440634\n",
      "max              75.294515\n",
      "95% CI Lower      2.962992\n",
      "95% CI Upper     38.707676\n",
      "Name: 7560, dtype: float64\n"
     ]
    }
   ],
   "source": [
    "# Fetch summary statistics from the Monte Carlo simulation results\n",
    "even_tbl_five = MC_dist.summarize_cumulative_return()\n",
    "# Print summary statistics\n",
    "print(even_tbl_five)"
   ]
  },
  {
   "cell_type": "code",
   "execution_count": 54,
   "id": "621195cf-76aa-4b39-b128-dbe8d735b656",
   "metadata": {},
   "outputs": [
    {
     "name": "stdout",
     "output_type": "stream",
     "text": [
      "There is a 95% chance that an initial investment of $60000 in the portfolio over the next 5 years will end within in the range of $177779.52 and $2322460.54\n"
     ]
    }
   ],
   "source": [
    "# Set initial investment\n",
    "initial_investment_five = 60000\n",
    "# Use the lower and upper `95%` confidence intervals to calculate the range of the possible outcomes of our $60,000\n",
    "ci_lower_five = round(even_tbl_five[8]*60000,2)\n",
    "ci_upper_five = round(even_tbl_five[9]*60000,2)\n",
    "# Print results\n",
    "print(f\"There is a 95% chance that an initial investment of ${initial_investment_five} in the portfolio\"\n",
    "      f\" over the next 5 years will end within in the range of\"\n",
    "      f\" ${ci_lower_five} and ${ci_upper_five}\")"
   ]
  },
  {
   "cell_type": "markdown",
   "id": "f30491db-b30b-417e-8ecc-cf26368e958f",
   "metadata": {},
   "source": [
    "## Ten Years Retirement Option\n"
   ]
  },
  {
   "cell_type": "code",
   "execution_count": null,
   "id": "0cbf61a5-166f-4a7a-9fbb-444957bb6c0c",
   "metadata": {},
   "outputs": [],
   "source": []
  }
 ],
 "metadata": {
  "kernelspec": {
   "display_name": "Python [conda env:alpacaenv]",
   "language": "python",
   "name": "conda-env-alpacaenv-py"
  },
  "language_info": {
   "codemirror_mode": {
    "name": "ipython",
    "version": 3
   },
   "file_extension": ".py",
   "mimetype": "text/x-python",
   "name": "python",
   "nbconvert_exporter": "python",
   "pygments_lexer": "ipython3",
   "version": "3.7.11"
  }
 },
 "nbformat": 4,
 "nbformat_minor": 5
}
